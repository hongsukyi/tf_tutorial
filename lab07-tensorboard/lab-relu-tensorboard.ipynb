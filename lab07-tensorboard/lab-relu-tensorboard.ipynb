{
 "cells": [
  {
   "cell_type": "code",
   "execution_count": 1,
   "metadata": {
    "collapsed": true
   },
   "outputs": [],
   "source": [
    "import tensorflow as tf\n",
    "import numpy as np\n",
    "\n",
    "train_data = np.loadtxt('data_xor.txt', unpack=True, dtype='float32')\n",
    "x_data = np.transpose(train_data[0:-1])\n",
    "y_data = np.reshape(train_data[-1:], (4, 1))\n",
    "\n",
    "\n",
    "X = tf.placeholder(tf.float32, name='x-input')\n",
    "Y = tf.placeholder(tf.float32, name='y-input')"
   ]
  },
  {
   "cell_type": "markdown",
   "metadata": {},
   "source": [
    "Graph View를 위한 Scope 작성법"
   ]
  },
  {
   "cell_type": "code",
   "execution_count": 2,
   "metadata": {
    "collapsed": true
   },
   "outputs": [],
   "source": [
    "with tf.name_scope('weight') as scope:\n",
    "    W1 = tf.Variable(tf.random_uniform([2, 5], -1., 1.), name='weight1')\n",
    "    W2 = tf.Variable(tf.random_uniform([5, 5], -1., 1.), name='weight2')\n",
    "    W3 = tf.Variable(tf.random_uniform([5, 4], -1., 1.), name='weight3')\n",
    "    W4 = tf.Variable(tf.random_uniform([4, 1], -1., 1.), name='weight4')\n",
    "    \n",
    "with tf.name_scope('bias') as scope:\n",
    "    b1 = tf.Variable(tf.random_uniform([5], -1., 1.), name='bias1')\n",
    "    b2 = tf.Variable(tf.random_uniform([5], -1., 1.), name='bias2')\n",
    "    b3 = tf.Variable(tf.random_uniform([4], -1., 1.), name='bias3')\n",
    "    b4 = tf.Variable(tf.random_uniform([1], -1., 1.), name='bias4')"
   ]
  },
  {
   "cell_type": "markdown",
   "metadata": {},
   "source": [
    "Graph View를 위한 Scope 작성법"
   ]
  },
  {
   "cell_type": "code",
   "execution_count": 3,
   "metadata": {
    "collapsed": true
   },
   "outputs": [],
   "source": [
    "with tf.name_scope('layer2') as scope:\n",
    "    L2 = tf.nn.relu(tf.matmul(X, W1) + b1)\n",
    "with tf.name_scope('layer3') as scope:\n",
    "    L3 = tf.nn.relu(tf.matmul(L2, W2) + b2)\n",
    "with tf.name_scope('layer4') as scope:\n",
    "    L4 = tf.nn.relu(tf.matmul(L3, W3) + b3)\n",
    "\n",
    "\n",
    "with tf.name_scope('hypothesis') as scope:\n",
    "    hypothesis = tf.sigmoid(tf.matmul(L4, W4) + b4)"
   ]
  },
  {
   "cell_type": "markdown",
   "metadata": {},
   "source": [
    "Add scala variables"
   ]
  },
  {
   "cell_type": "code",
   "execution_count": 4,
   "metadata": {
    "collapsed": true
   },
   "outputs": [],
   "source": [
    "with tf.name_scope('cost') as scope:\n",
    "    cost = -tf.reduce_mean(Y * tf.log(hypothesis) + (1 - Y) * tf.log(1 - hypothesis))\n",
    "    cost_sum = tf.summary.scalar('cost', cost)"
   ]
  },
  {
   "cell_type": "markdown",
   "metadata": {},
   "source": [
    "Histogram "
   ]
  },
  {
   "cell_type": "code",
   "execution_count": 5,
   "metadata": {
    "collapsed": true
   },
   "outputs": [],
   "source": [
    "w1_hist_sum = tf.summary.histogram('weight1', W1)\n",
    "w2_hist_sum = tf.summary.histogram('weight2', W2)\n",
    "w3_hist_sum = tf.summary.histogram('weight3', W3)\n",
    "w4_hist_sum = tf.summary.histogram('weight4', W4)\n",
    "\n",
    "b1_hist_sum = tf.summary.histogram('bias1', b1)\n",
    "b2_hist_sum = tf.summary.histogram('bias2', b2)\n",
    "b3_hist_sum = tf.summary.histogram('bias3', b3)\n",
    "b4_hist_sum = tf.summary.histogram('bias4', b4)\n",
    "\n",
    "y_hist_sum = tf.summary.histogram('y', Y)"
   ]
  },
  {
   "cell_type": "markdown",
   "metadata": {},
   "source": [
    "Merge summaries and crteate writer "
   ]
  },
  {
   "cell_type": "code",
   "execution_count": 6,
   "metadata": {
    "collapsed": false
   },
   "outputs": [
    {
     "name": "stdout",
     "output_type": "stream",
     "text": [
      "0 0.5\n",
      "20 0.75\n",
      "40 0.75\n",
      "60 0.75\n",
      "80 0.75\n",
      "100 0.75\n",
      "120 0.75\n",
      "140 0.75\n",
      "160 0.75\n",
      "180 0.75\n",
      "200 0.75\n",
      "220 0.75\n",
      "240 0.75\n",
      "260 0.75\n",
      "280 0.75\n",
      "300 1.0\n",
      "320 1.0\n",
      "340 1.0\n",
      "360 1.0\n",
      "380 1.0\n",
      "400 1.0\n",
      "420 1.0\n",
      "440 1.0\n",
      "460 1.0\n",
      "480 1.0\n",
      "500 1.0\n",
      "520 1.0\n",
      "540 1.0\n",
      "560 1.0\n",
      "580 1.0\n",
      "600 1.0\n",
      "620 1.0\n",
      "640 1.0\n",
      "660 1.0\n",
      "680 1.0\n",
      "700 1.0\n",
      "720 1.0\n",
      "740 1.0\n",
      "760 1.0\n",
      "780 1.0\n",
      "800 1.0\n",
      "820 1.0\n",
      "840 1.0\n",
      "860 1.0\n",
      "880 1.0\n",
      "900 1.0\n",
      "920 1.0\n",
      "940 1.0\n",
      "960 1.0\n",
      "980 1.0\n",
      "1000 1.0\n",
      "1020 1.0\n",
      "1040 1.0\n",
      "1060 1.0\n",
      "1080 1.0\n",
      "1100 1.0\n",
      "1120 1.0\n",
      "1140 1.0\n",
      "1160 1.0\n",
      "1180 1.0\n",
      "1200 1.0\n",
      "1220 1.0\n",
      "1240 1.0\n",
      "1260 1.0\n",
      "1280 1.0\n",
      "1300 1.0\n",
      "1320 1.0\n",
      "1340 1.0\n",
      "1360 1.0\n",
      "1380 1.0\n",
      "1400 1.0\n",
      "1420 1.0\n",
      "1440 1.0\n",
      "1460 1.0\n",
      "1480 1.0\n",
      "1500 1.0\n",
      "1520 1.0\n",
      "1540 1.0\n",
      "1560 1.0\n",
      "1580 1.0\n",
      "1600 1.0\n",
      "1620 1.0\n",
      "1640 1.0\n",
      "1660 1.0\n",
      "1680 1.0\n",
      "1700 1.0\n",
      "1720 1.0\n",
      "1740 1.0\n",
      "1760 1.0\n",
      "1780 1.0\n",
      "1800 1.0\n",
      "1820 1.0\n",
      "1840 1.0\n",
      "1860 1.0\n",
      "1880 1.0\n",
      "1900 1.0\n",
      "1920 1.0\n",
      "1940 1.0\n",
      "1960 1.0\n",
      "1980 1.0\n",
      "[array([[  6.31751725e-04],\n",
      "       [  9.97308135e-01],\n",
      "       [  9.99800503e-01],\n",
      "       [  8.13613588e-05]], dtype=float32), array([[ 0.],\n",
      "       [ 1.],\n",
      "       [ 1.],\n",
      "       [ 0.]], dtype=float32), array([[ True],\n",
      "       [ True],\n",
      "       [ True],\n",
      "       [ True]], dtype=bool)]\n",
      "accuracy: 1.0\n"
     ]
    }
   ],
   "source": [
    "\n",
    "with tf.Session() as sess:\n",
    "    init = tf.global_variables_initializer()\n",
    "    sess.run(init)\n",
    "\n",
    "    learning_rate = 0.1\n",
    "    optimizer = tf.train.GradientDescentOptimizer(learning_rate)\n",
    "    train = optimizer.minimize(cost)\n",
    "\n",
    "    merged = tf.summary.merge_all()\n",
    "    writer = tf.summary.FileWriter('./logs', sess.graph)\n",
    "\n",
    "    for step in range(2000):\n",
    "        sess.run(train, feed_dict={X: x_data, Y: y_data})\n",
    "\n",
    "        if step % 20 == 0:\n",
    "            summary, _ = sess.run([merged,train], feed_dict={X: x_data, Y:y_data})\n",
    "            writer.add_summary(summary, step)\n",
    "            correct_prediction = tf.equal(tf.floor(hypothesis + 0.5), Y)\n",
    "            accuracy = tf.reduce_mean(tf.cast(correct_prediction, tf.float32))\n",
    "            print(step, sess.run(accuracy, feed_dict={X:x_data, Y:y_data})) \n",
    "    \n",
    "    correct_prediction = tf.equal(tf.floor(hypothesis + 0.5), Y)\n",
    "    accuracy = tf.reduce_mean(tf.cast(correct_prediction, tf.float32))\n",
    "    print (sess.run([hypothesis, tf.floor(hypothesis + 0.5), correct_prediction], feed_dict={X: x_data, Y: y_data}))\n",
    "    print ('accuracy:', sess.run(accuracy, feed_dict={X: x_data, Y: y_data}))\n",
    "    # print 'accuracy:', accuracy.eval({X: x_data, Y: y_data})"
   ]
  },
  {
   "cell_type": "markdown",
   "metadata": {
    "collapsed": true
   },
   "source": [
    "c:>tensorboar --logdir=./logs --port=6006\n",
    "c:> < http://192.168.56.1:6006\n",
    "Window7에서 Internet Explore 11에서 열기 실패하면, \n",
    "구글 크롬에서 열수 있음 "
   ]
  },
  {
   "cell_type": "code",
   "execution_count": null,
   "metadata": {
    "collapsed": true
   },
   "outputs": [],
   "source": []
  }
 ],
 "metadata": {
  "kernelspec": {
   "display_name": "Python 3",
   "language": "python",
   "name": "python3"
  },
  "language_info": {
   "codemirror_mode": {
    "name": "ipython",
    "version": 3
   },
   "file_extension": ".py",
   "mimetype": "text/x-python",
   "name": "python",
   "nbconvert_exporter": "python",
   "pygments_lexer": "ipython3",
   "version": "3.5.2"
  }
 },
 "nbformat": 4,
 "nbformat_minor": 2
}
