{
 "cells": [
  {
   "cell_type": "markdown",
   "metadata": {},
   "source": [
    "# page 79: two-layer-xor"
   ]
  },
  {
   "cell_type": "code",
   "execution_count": 1,
   "metadata": {
    "collapsed": false
   },
   "outputs": [
    {
     "name": "stdout",
     "output_type": "stream",
     "text": [
      "[[ 0.  0.]\n",
      " [ 0.  1.]\n",
      " [ 1.  0.]\n",
      " [ 1.  1.]] [[ 0.]\n",
      " [ 1.]\n",
      " [ 1.]\n",
      " [ 0.]]\n"
     ]
    }
   ],
   "source": [
    "import tensorflow as tf\n",
    "import numpy as np\n",
    "xy= np.loadtxt('./data_xor.txt', unpack=True, dtype='float32')\n",
    "x_data = xy[0:-1]\n",
    "y_data = xy[-1]\n",
    "x_data = np.transpose(xy[0:-1])\n",
    "y_data = np.reshape(xy[-1:], (4, 1))\n",
    "\n",
    "print (x_data,y_data)"
   ]
  },
  {
   "cell_type": "code",
   "execution_count": 2,
   "metadata": {
    "collapsed": false
   },
   "outputs": [],
   "source": [
    "X = tf.placeholder(tf.float32)\n",
    "Y = tf.placeholder(tf.float32)\n",
    "\n",
    "W1 = tf.Variable(tf.random_uniform([2, 2], -1.0, 1.0))\n",
    "W2 = tf.Variable(tf.random_uniform([2, 1], -1.0, 1.0))\n",
    "\n",
    "b1 = tf.Variable(tf.zeros([2]), name=\"Bias1\")\n",
    "b2 = tf.Variable(tf.zeros([1]), name=\"Bias2\")\n",
    "\n",
    "L2 = tf.sigmoid(tf.matmul(X,W1)+b1)\n",
    "hypo = tf.sigmoid(tf.matmul(L2,W2) +b2)\n"
   ]
  },
  {
   "cell_type": "code",
   "execution_count": 3,
   "metadata": {
    "collapsed": false
   },
   "outputs": [],
   "source": [
    "cost = -tf.reduce_mean(Y * tf.log(hypo) + (1 - Y) * tf.log(1 - hypo))"
   ]
  },
  {
   "cell_type": "code",
   "execution_count": 4,
   "metadata": {
    "collapsed": true
   },
   "outputs": [],
   "source": [
    "init = tf.global_variables_initializer()\n",
    "sess = tf.Session()\n",
    "sess.run(init)\n",
    "\n",
    "learning_rate = 0.1\n",
    "optimizer = tf.train.GradientDescentOptimizer(learning_rate)\n",
    "train = optimizer.minimize(cost)"
   ]
  },
  {
   "cell_type": "code",
   "execution_count": 9,
   "metadata": {
    "collapsed": false,
    "scrolled": true
   },
   "outputs": [
    {
     "name": "stdout",
     "output_type": "stream",
     "text": [
      "0 0.00235394 [[ 7.68989086  6.65850496]\n",
      " [-7.44828844 -6.91609812]] [[-12.85659695]\n",
      " [ 13.5062809 ]]\n",
      "500 0.00232437 [[ 7.69561291  6.66550732]\n",
      " [-7.45397139 -6.92324162]] [[-12.88077164]\n",
      " [ 13.53002548]]\n",
      "1000 0.00229555 [[ 7.70125437  6.67242146]\n",
      " [-7.45945501 -6.93015575]] [[-12.90461349]\n",
      " [ 13.5533905 ]]\n",
      "1500 0.00226744 [[ 7.706738    6.67929745]\n",
      " [-7.46493864 -6.93706989]] [[-12.92813778]\n",
      " [ 13.57650375]]\n",
      "2000 0.00223995 [[ 7.71222162  6.68597317]\n",
      " [-7.47042227 -6.9438529 ]] [[-12.9515028 ]\n",
      " [ 13.59939194]]\n"
     ]
    }
   ],
   "source": [
    "for step in range(2001):\n",
    "    feed = {X: x_data, Y: y_data}\n",
    "    sess.run(train, feed_dict=feed)\n",
    "    if step % 500 == 0:            \n",
    "        print (step, sess.run(cost, feed_dict=feed), sess.run(W1), sess.run(W2))"
   ]
  },
  {
   "cell_type": "code",
   "execution_count": 10,
   "metadata": {
    "collapsed": false
   },
   "outputs": [
    {
     "name": "stdout",
     "output_type": "stream",
     "text": [
      "[array([[ 0.00215096],\n",
      "       [ 0.99705553],\n",
      "       [ 0.99799949],\n",
      "       [ 0.00185347]], dtype=float32), array([[ 0.],\n",
      "       [ 1.],\n",
      "       [ 1.],\n",
      "       [ 0.]], dtype=float32), array([[ True],\n",
      "       [ True],\n",
      "       [ True],\n",
      "       [ True]], dtype=bool)]\n",
      "accuracy: 1.0\n"
     ]
    }
   ],
   "source": [
    "correct_prediction = tf.equal(tf.floor(hypo + 0.5), Y)\n",
    "\n",
    "accuracy = tf.reduce_mean(tf.cast(correct_prediction, tf.float32))\n",
    "\n",
    "print (sess.run([hypo, tf.floor(hypo + 0.5), correct_prediction], feed_dict=feed))\n",
    "print ('accuracy:', sess.run(accuracy, feed_dict={X: x_data, Y: y_data}))\n",
    "# print 'accuracy:', accuracy.eval({X: x_data, Y: y_data})"
   ]
  },
  {
   "cell_type": "code",
   "execution_count": null,
   "metadata": {
    "collapsed": true
   },
   "outputs": [],
   "source": []
  },
  {
   "cell_type": "code",
   "execution_count": null,
   "metadata": {
    "collapsed": true
   },
   "outputs": [],
   "source": []
  },
  {
   "cell_type": "code",
   "execution_count": null,
   "metadata": {
    "collapsed": true
   },
   "outputs": [],
   "source": []
  }
 ],
 "metadata": {
  "kernelspec": {
   "display_name": "Python 3",
   "language": "python",
   "name": "python3"
  },
  "language_info": {
   "codemirror_mode": {
    "name": "ipython",
    "version": 3
   },
   "file_extension": ".py",
   "mimetype": "text/x-python",
   "name": "python",
   "nbconvert_exporter": "python",
   "pygments_lexer": "ipython3",
   "version": "3.5.2"
  }
 },
 "nbformat": 4,
 "nbformat_minor": 2
}
