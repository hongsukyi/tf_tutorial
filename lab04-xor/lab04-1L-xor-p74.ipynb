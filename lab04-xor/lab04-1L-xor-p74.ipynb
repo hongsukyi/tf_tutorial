{
 "cells": [
  {
   "cell_type": "markdown",
   "metadata": {},
   "source": [
    "# page 74: One-layer xor "
   ]
  },
  {
   "cell_type": "code",
   "execution_count": 1,
   "metadata": {
    "collapsed": true
   },
   "outputs": [],
   "source": [
    "import tensorflow as tf\n",
    "import numpy as np\n",
    "xy     = np.loadtxt('./data_xor.txt', unpack=True, dtype='float32')\n",
    "x_data = xy[0:-1]\n",
    "y_data = xy[-1]"
   ]
  },
  {
   "cell_type": "code",
   "execution_count": 2,
   "metadata": {
    "collapsed": false
   },
   "outputs": [
    {
     "name": "stderr",
     "output_type": "stream",
     "text": [
      "ERROR:root:Line magic function `%cat` not found.\n"
     ]
    }
   ],
   "source": [
    "%cat ./train.txt"
   ]
  },
  {
   "cell_type": "code",
   "execution_count": 3,
   "metadata": {
    "collapsed": false
   },
   "outputs": [
    {
     "name": "stdout",
     "output_type": "stream",
     "text": [
      "[[ 0.  0.  1.  1.]\n",
      " [ 0.  1.  0.  1.]] [ 0.  1.  1.  0.]\n"
     ]
    }
   ],
   "source": [
    "print (x_data,y_data)"
   ]
  },
  {
   "cell_type": "code",
   "execution_count": 4,
   "metadata": {
    "collapsed": true
   },
   "outputs": [],
   "source": [
    "#x_data = np.transpose(train_data[0:-1])\n",
    "#y_data = np.reshape(train_data[-1:], (4, 1))\n",
    "\n",
    "X = tf.placeholder(tf.float32)\n",
    "Y = tf.placeholder(tf.float32)\n",
    "\n",
    "W = tf.Variable(tf.random_uniform([1, len(x_data)], -1., 1.))\n",
    "b = tf.Variable(tf.random_uniform([1], -1., 1.))\n",
    "\n",
    "z = tf.matmul(W,X)"
   ]
  },
  {
   "cell_type": "code",
   "execution_count": 5,
   "metadata": {
    "collapsed": true
   },
   "outputs": [],
   "source": [
    "hypo = tf.div(1.,1.+tf.exp(-z))\n",
    "\n",
    "cost = -tf.reduce_mean(Y * tf.log(hypo) + (1 - Y) * tf.log(1 - hypo))"
   ]
  },
  {
   "cell_type": "code",
   "execution_count": 6,
   "metadata": {
    "collapsed": true
   },
   "outputs": [],
   "source": [
    "init = tf.global_variables_initializer()\n",
    "sess = tf.Session()\n",
    "sess.run(init)\n",
    "\n",
    "learning_rate = 0.1\n",
    "optimizer = tf.train.GradientDescentOptimizer(learning_rate)\n",
    "train = optimizer.minimize(cost)"
   ]
  },
  {
   "cell_type": "code",
   "execution_count": 7,
   "metadata": {
    "collapsed": false
   },
   "outputs": [
    {
     "name": "stdout",
     "output_type": "stream",
     "text": [
      "0 0.735238 [[ 0.40044165 -0.95661223]]\n",
      "200 0.695594 [[ 0.19097841 -0.20441893]]\n",
      "400 0.693347 [[ 0.05635199 -0.05665841]]\n",
      "600 0.693164 [[ 0.01612414 -0.0161311 ]]\n",
      "800 0.693149 [[ 0.0046025  -0.00460268]]\n",
      "[array([[ 0.5       ,  0.49966952,  0.50033045,  0.5       ]], dtype=float32), array([[ 1.,  0.,  1.,  1.]], dtype=float32), array([[False, False,  True, False]], dtype=bool)]\n",
      "accuracy: 0.25\n"
     ]
    }
   ],
   "source": [
    "for step in range(1000):\n",
    "    feed = {X: x_data, Y: y_data}\n",
    "    sess.run(train, feed_dict=feed)\n",
    "    if step % 200 == 0:            \n",
    "        print (step, sess.run(cost, feed_dict=feed), sess.run(W))\n",
    "\n",
    "correct_prediction = tf.equal(tf.floor(hypo + 0.5), Y)\n",
    "\n",
    "accuracy = tf.reduce_mean(tf.cast(correct_prediction, tf.float32))\n",
    "\n",
    "print (sess.run([hypo, tf.floor(hypo + 0.5), correct_prediction], feed_dict=feed))\n",
    "print ('accuracy:', sess.run(accuracy, feed_dict={X: x_data, Y: y_data}))\n",
    "# print 'accuracy:', accuracy.eval({X: x_data, Y: y_data})"
   ]
  }
 ],
 "metadata": {
  "kernelspec": {
   "display_name": "Python 3",
   "language": "python",
   "name": "python3"
  },
  "language_info": {
   "codemirror_mode": {
    "name": "ipython",
    "version": 3
   },
   "file_extension": ".py",
   "mimetype": "text/x-python",
   "name": "python",
   "nbconvert_exporter": "python",
   "pygments_lexer": "ipython3",
   "version": "3.5.2"
  }
 },
 "nbformat": 4,
 "nbformat_minor": 2
}
