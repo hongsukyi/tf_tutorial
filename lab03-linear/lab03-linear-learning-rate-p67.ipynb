{
 "cells": [
  {
   "cell_type": "markdown",
   "metadata": {},
   "source": [
    "# page p67선형회귀분석 \n",
    "\n",
    "(연습, learning_rate와 "
   ]
  },
  {
   "cell_type": "code",
   "execution_count": 1,
   "metadata": {
    "collapsed": true
   },
   "outputs": [],
   "source": [
    "import tensorflow as tf\n",
    "import matplotlib.pyplot as plt\n",
    "%matplotlib inline\n",
    "import numpy as np "
   ]
  },
  {
   "cell_type": "code",
   "execution_count": 2,
   "metadata": {
    "collapsed": true
   },
   "outputs": [],
   "source": [
    "x_data = [1., 2., 3., 4., 5., 6., 7., 8., 9., 10, 11, 12., 13., 14., 15.]\n",
    "y_data = [2., 4., 6., 8., 10.,12.,14.,16., 18., 20., 22., 24., 26., 28., 29.9]"
   ]
  },
  {
   "cell_type": "code",
   "execution_count": 3,
   "metadata": {
    "collapsed": false
   },
   "outputs": [
    {
     "data": {
      "image/png": "[encoded data removed]",
      "text/plain": [
       "<matplotlib.figure.Figure at 0x9a1e128>"
      ]
     },
     "metadata": {},
     "output_type": "display_data"
    }
   ],
   "source": [
    "plt.plot(x_data, y_data,'bo',label='original data')\n",
    "plt.xlabel('x_data')\n",
    "plt.ylabel('y_data')\n",
    "plt.legend()\n",
    "plt.show()\n",
    "           "
   ]
  },
  {
   "cell_type": "markdown",
   "metadata": {},
   "source": [
    "try to find values for w and b that compute y_data = W * x_data + b"
   ]
  },
  {
   "cell_type": "code",
   "execution_count": 4,
   "metadata": {
    "collapsed": false
   },
   "outputs": [],
   "source": [
    "W = tf.Variable(tf.random_uniform([1], -1.0, 1.0))\n",
    "b = tf.Variable(tf.random_uniform([1], -1.0, 1.0))\n",
    "\n",
    "# my hypothesis\n",
    "hypothesis = W * x_data + b\n",
    "\n",
    "# Simplified cost function\n",
    "cost = tf.reduce_mean(tf.square(hypothesis - y_data))"
   ]
  },
  {
   "cell_type": "markdown",
   "metadata": {},
   "source": [
    "# Learning rate \n",
    "learning rata에 따라 계산 수렴성 관찰하기"
   ]
  },
  {
   "cell_type": "code",
   "execution_count": 48,
   "metadata": {
    "collapsed": true
   },
   "outputs": [],
   "source": [
    "# minimize\n",
    "learning_rate = 0.00001"
   ]
  },
  {
   "cell_type": "code",
   "execution_count": 49,
   "metadata": {
    "collapsed": true
   },
   "outputs": [],
   "source": [
    "optimizer = tf.train.GradientDescentOptimizer(learning_rate)\n",
    "train = optimizer.minimize(cost)"
   ]
  },
  {
   "cell_type": "code",
   "execution_count": 50,
   "metadata": {
    "collapsed": false
   },
   "outputs": [
    {
     "name": "stdout",
     "output_type": "stream",
     "text": [
      "0 506.073 [-0.45363778] [-0.22501667]\n",
      "100 362.357 [-0.07659192] [-0.18842918]\n",
      "200 259.454 [ 0.24245606] [-0.15746954]\n",
      "300 185.774 [ 0.51242757] [-0.13127218]\n",
      "400 133.017 [ 0.74087125] [-0.10910445]\n",
      "500 95.2429 [ 0.93417579] [-0.09034659]\n",
      "600 68.1957 [ 1.09774578] [-0.07447409]\n",
      "700 48.8295 [ 1.23615515] [-0.06104307]\n",
      "800 34.9629 [ 1.35327375] [-0.04967801]\n",
      "900 25.0342 [ 1.45237744] [-0.04006111]\n",
      "1000 17.925 [ 1.53623676] [-0.03192349]\n"
     ]
    }
   ],
   "source": [
    "init = tf.global_variables_initializer()\n",
    "# launch\n",
    "\n",
    "with tf.Session() as sess: \n",
    "    sess.run(init)\n",
    "    cost_history = np.empty(shape=[1],dtype=float) \n",
    "    W_history    = np.empty(shape=[1],dtype=float)\n",
    "    b_history    = np.empty(shape=[1],dtype=float)\n",
    "    \n",
    "    for step in range(1001):\n",
    "        sess.run(train)\n",
    "        if (step % 100 == 0) : \n",
    "            print(step, sess.run(cost), sess.run(W), sess.run(b))\n",
    "            \n",
    "        cost_history = np.append(cost_history,sess.run(cost))       \n",
    "        W_history = np.append(W_history,sess.run(W))  \n",
    "        b_history = np.append(b_history,sess.run(b))   \n"
   ]
  },
  {
   "cell_type": "code",
   "execution_count": 51,
   "metadata": {
    "collapsed": false
   },
   "outputs": [
    {
     "data": {
      "image/png": "[encoded data removed]",
      "text/plain": [
       "<matplotlib.figure.Figure at 0xa401668>"
      ]
     },
     "metadata": {},
     "output_type": "display_data"
    }
   ],
   "source": [
    "    plt.plot(range(len(cost_history)),cost_history,'ro')\n",
    "    plt.xlabel('step')\n",
    "    plt.ylabel('cost')\n",
    "    plt.show()\n",
    "           "
   ]
  },
  {
   "cell_type": "code",
   "execution_count": 52,
   "metadata": {
    "collapsed": false
   },
   "outputs": [
    {
     "data": {
      "image/png": "[encoded data removed]",
      "text/plain": [
       "<matplotlib.figure.Figure at 0xa3ce550>"
      ]
     },
     "metadata": {},
     "output_type": "display_data"
    }
   ],
   "source": [
    "    plt.plot(range(len(W_history)),W_history,'bo')\n",
    "    plt.xlabel('step')\n",
    "    plt.ylabel('weight')\n",
    "    plt.show()           "
   ]
  },
  {
   "cell_type": "code",
   "execution_count": 53,
   "metadata": {
    "collapsed": false,
    "scrolled": true
   },
   "outputs": [
    {
     "data": {
      "image/png": "[encoded data removed]",
      "text/plain": [
       "<matplotlib.figure.Figure at 0xac95e10>"
      ]
     },
     "metadata": {},
     "output_type": "display_data"
    }
   ],
   "source": [
    "    plt.plot(range(len(b_history)),b_history,'go')\n",
    "    plt.xlabel('step')\n",
    "    plt.ylabel('bias')\n",
    "    plt.show()"
   ]
  },
  {
   "cell_type": "code",
   "execution_count": 54,
   "metadata": {
    "collapsed": false
   },
   "outputs": [
    {
     "data": {
      "image/png": "[encoded data removed]",
      "text/plain": [
       "<matplotlib.figure.Figure at 0xb0ce9e8>"
      ]
     },
     "metadata": {},
     "output_type": "display_data"
    }
   ],
   "source": [
    "    plt.plot(W_history, cost_history,'ro')\n",
    "    plt.xlabel('Weight')\n",
    "    plt.ylabel('Cost')\n",
    "    plt.show()"
   ]
  },
  {
   "cell_type": "code",
   "execution_count": null,
   "metadata": {
    "collapsed": true
   },
   "outputs": [],
   "source": []
  },
  {
   "cell_type": "code",
   "execution_count": null,
   "metadata": {
    "collapsed": true
   },
   "outputs": [],
   "source": []
  }
 ],
 "metadata": {
  "kernelspec": {
   "display_name": "Python 3",
   "language": "python",
   "name": "python3"
  },
  "language_info": {
   "codemirror_mode": {
    "name": "ipython",
    "version": 3
   },
   "file_extension": ".py",
   "mimetype": "text/x-python",
   "name": "python",
   "nbconvert_exporter": "python",
   "pygments_lexer": "ipython3",
   "version": "3.5.2"
  }
 },
 "nbformat": 4,
 "nbformat_minor": 2
}
