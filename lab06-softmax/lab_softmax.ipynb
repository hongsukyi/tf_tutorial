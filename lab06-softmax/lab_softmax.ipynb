{
 "cells": [
  {
   "cell_type": "markdown",
   "metadata": {},
   "source": [
    "# lab_softmax"
   ]
  },
  {
   "cell_type": "markdown",
   "metadata": {},
   "source": [
    "## Softmax 예제\n",
    "\n",
    "공부한 시간(x1)과 수업 받은 시간(x2)에 대하여 성적 y=[A, B, C]을 받을 확률을 구하자"
   ]
  },
  {
   "cell_type": "code",
   "execution_count": 1,
   "metadata": {
    "collapsed": true
   },
   "outputs": [],
   "source": [
    "import tensorflow as tf\n",
    "import numpy as np\n",
    "import matplotlib.pyplot as plt\n",
    "%matplotlib inline\n",
    "\n",
    "train_data = np.loadtxt('data_softmax.txt', unpack=True, dtype='float32')"
   ]
  },
  {
   "cell_type": "markdown",
   "metadata": {},
   "source": [
    "transpose를 해주어야 함."
   ]
  },
  {
   "cell_type": "code",
   "execution_count": 2,
   "metadata": {
    "collapsed": true
   },
   "outputs": [],
   "source": [
    "x_data = np.transpose(train_data[0:3])\n",
    "y_data = np.transpose(train_data[3:])"
   ]
  },
  {
   "cell_type": "code",
   "execution_count": 3,
   "metadata": {
    "collapsed": true
   },
   "outputs": [],
   "source": [
    "X = tf.placeholder('float', [None, 3])\n",
    "Y = tf.placeholder('float', [None, 3])\n",
    "\n",
    "W = tf.Variable(tf.zeros([3, 3]))\n",
    "\n",
    "hypothesis = tf.nn.softmax(tf.matmul(X, W))"
   ]
  },
  {
   "cell_type": "markdown",
   "metadata": {},
   "source": [
    "(연습문제) learning_rate 조절하여 cost 수렵하기 "
   ]
  },
  {
   "cell_type": "code",
   "execution_count": 12,
   "metadata": {
    "collapsed": true
   },
   "outputs": [],
   "source": [
    "learning_rate = 0.1"
   ]
  },
  {
   "cell_type": "code",
   "execution_count": 13,
   "metadata": {
    "collapsed": true
   },
   "outputs": [],
   "source": [
    "cost = tf.reduce_mean(-tf.reduce_sum(Y * tf.log(hypothesis), reduction_indices=1))\n",
    "\n",
    "optimizer = tf.train.GradientDescentOptimizer(learning_rate)\n",
    "train = optimizer.minimize(cost)\n",
    "\n",
    "init = tf.global_variables_initializer()\n",
    "cost_history = np.empty(shape=[1],dtype=float)"
   ]
  },
  {
   "cell_type": "code",
   "execution_count": 14,
   "metadata": {
    "collapsed": false
   },
   "outputs": [
    {
     "name": "stdout",
     "output_type": "stream",
     "text": [
      "0 1.0678 [[-0.00833333  0.00416667  0.00416666]\n",
      " [ 0.01666667  0.02916667 -0.04583334]\n",
      " [ 0.01666666  0.04166667 -0.05833334]]\n",
      "2000 0.361591 [[-6.95501471  0.21433842  6.7406764 ]\n",
      " [ 0.13668649  0.02956286 -0.16624542]\n",
      " [ 1.2420913   0.1036661  -1.3457557 ]]\n",
      "4000 0.268268 [[-10.15374279   0.7183398    9.43540668]\n",
      " [  0.13394859   0.04668194  -0.18062133]\n",
      " [  1.84994256   0.03423374  -1.8841691 ]]\n",
      "6000 0.218694 [[-12.44033241   0.95115668  11.4891777 ]\n",
      " [  0.13352925   0.0508402   -0.18435547]\n",
      " [  2.28680086   0.01493643  -2.30170703]]\n",
      "8000 0.185758 [[-14.273036     1.06626189  13.2067709 ]\n",
      " [  0.13342234   0.051634    -0.18503679]\n",
      " [  2.63916636   0.01536592  -2.65447974]]\n",
      "10000 0.161618 [[-15.82596588   1.12923706  14.69672012]\n",
      " [  0.13341101   0.05144376  -0.18483071]\n",
      " [  2.93901873   0.0232214   -2.96216846]]\n",
      "12000 0.14297 [[-17.18381691   1.16946042  16.01434326]\n",
      " [  0.13344637   0.05098928  -0.18440738]\n",
      " [  3.20187807   0.03325099  -3.23504519]]\n",
      "14000 0.128077 [[-18.39489555   1.20024168  17.19463539]\n",
      " [  0.13350695   0.05050164  -0.18397656]\n",
      " [  3.43666649   0.04325947  -3.47982597]]\n",
      "16000 0.115896 [[-19.48995972   1.22751522  18.2624073 ]\n",
      " [  0.13357522   0.05005015  -0.18359151]\n",
      " [  3.64912772   0.05240512  -3.70142341]]\n",
      "18000 0.105748 [[-20.49018097   1.25381505  19.23630905]\n",
      " [  0.13364828   0.04965545  -0.18326332]\n",
      " [  3.84326386   0.06045125  -3.90358901]]\n",
      "20000 0.0971678 [[-21.41098595   1.28017104  20.1307354 ]\n",
      " [  0.13371298   0.04931125  -0.18298739]\n",
      " [  4.02202082   0.06740336  -4.08925152]]\n",
      "------------------------\n",
      "a= [[  9.97320950e-01   2.67911982e-03   7.38680317e-09]] [0]\n",
      "b= [[  2.37984976e-04   1.78383335e-01   8.21378767e-01]] [2]\n",
      "c= [[  1.24796015e-18   8.20710877e-09   1.00000000e+00]] [2]\n",
      "all= [[  9.97320950e-01   2.67911982e-03   7.38680317e-09]\n",
      " [  2.37984976e-04   1.78383335e-01   8.21378767e-01]\n",
      " [  1.24796015e-18   8.20710877e-09   1.00000000e+00]] [0 2 2]\n"
     ]
    }
   ],
   "source": [
    "with tf.Session() as sess:\n",
    "    sess.run(init)\n",
    "\n",
    "    for step in range(20001):\n",
    "        feed = {X: x_data, Y: y_data}\n",
    "        sess.run(train, feed_dict=feed )\n",
    "        if step % 2000 == 0:\n",
    "            print(step, sess.run(cost, feed_dict=feed ), sess.run(W))\n",
    "        cost_history = np.append(cost_history,sess.run(cost, feed_dict=feed ))  \n",
    "            \n",
    "    print('------------------------')\n",
    "    a = sess.run(hypothesis, feed_dict={X: [[1, 11, 7]]})\n",
    "    print('a=', a, sess.run(tf.argmax(a, 1)))        \n",
    "    \n",
    "    b = sess.run(hypothesis, feed_dict={X: [[1, 3, 4]]})\n",
    "    print ('b=',b, sess.run(tf.argmax(b, 1)))\n",
    "\n",
    "    c = sess.run(hypothesis, feed_dict={X: [[1, 1, 0]]})\n",
    "    print('c=', c, sess.run(tf.argmax(c, 1)))\n",
    "\n",
    "    all = sess.run(hypothesis, feed_dict={X: [[1, 11, 7], [1, 3, 4], [1, 1, 0]]})\n",
    "    print ('all=',all, sess.run(tf.argmax(all, 1)))        "
   ]
  },
  {
   "cell_type": "markdown",
   "metadata": {},
   "source": [
    "test하기 :"
   ]
  },
  {
   "cell_type": "code",
   "execution_count": 15,
   "metadata": {
    "collapsed": false
   },
   "outputs": [
    {
     "data": {
      "image/png": "[encoded data removed]",
      "text/plain": [
       "<matplotlib.figure.Figure at 0xa7967b8>"
      ]
     },
     "metadata": {},
     "output_type": "display_data"
    }
   ],
   "source": [
    "plt.plot(range(len(cost_history)),cost_history,'ro')\n",
    "#plt.axis([0,np.log(epoch),0,np.max(cost_history)])\n",
    "#plt.axis([0,epoch,0,60])\n",
    "plt.xlabel('step')\n",
    "plt.ylabel('cost')\n",
    "plt.show()"
   ]
  },
  {
   "cell_type": "code",
   "execution_count": null,
   "metadata": {
    "collapsed": true
   },
   "outputs": [],
   "source": []
  },
  {
   "cell_type": "code",
   "execution_count": null,
   "metadata": {
    "collapsed": true
   },
   "outputs": [],
   "source": []
  },
  {
   "cell_type": "code",
   "execution_count": null,
   "metadata": {
    "collapsed": true
   },
   "outputs": [],
   "source": []
  }
 ],
 "metadata": {
  "kernelspec": {
   "display_name": "Python 3",
   "language": "python",
   "name": "python3"
  },
  "language_info": {
   "codemirror_mode": {
    "name": "ipython",
    "version": 3
   },
   "file_extension": ".py",
   "mimetype": "text/x-python",
   "name": "python",
   "nbconvert_exporter": "python",
   "pygments_lexer": "ipython3",
   "version": "3.5.2"
  }
 },
 "nbformat": 4,
 "nbformat_minor": 2
}
