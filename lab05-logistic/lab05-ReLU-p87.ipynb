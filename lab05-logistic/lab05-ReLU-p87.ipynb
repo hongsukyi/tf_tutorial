{
 "cells": [
  {
   "cell_type": "markdown",
   "metadata": {},
   "source": [
    "# page 87 : 4Layer XOR with ReLU"
   ]
  },
  {
   "cell_type": "code",
   "execution_count": 1,
   "metadata": {
    "collapsed": true
   },
   "outputs": [],
   "source": [
    "import tensorflow as tf\n",
    "import numpy as np"
   ]
  },
  {
   "cell_type": "code",
   "execution_count": 2,
   "metadata": {
    "collapsed": true
   },
   "outputs": [],
   "source": [
    "train_data = np.loadtxt('data_xor.txt', unpack=True, dtype='float32')"
   ]
  },
  {
   "cell_type": "code",
   "execution_count": 3,
   "metadata": {
    "collapsed": true
   },
   "outputs": [],
   "source": [
    "x_data = np.transpose(train_data[0:-1])\n",
    "y_data = np.reshape(train_data[-1:], (4, 1))\n",
    "\n",
    "X = tf.placeholder(tf.float32, name='x-input')\n",
    "Y = tf.placeholder(tf.float32, name='y-input')"
   ]
  },
  {
   "cell_type": "code",
   "execution_count": 4,
   "metadata": {
    "collapsed": true
   },
   "outputs": [],
   "source": [
    "with tf.name_scope('WEIGHT') as scope:\n",
    "    W1 = tf.Variable(tf.random_uniform([2, 5], -1., 1.), name='weight1')\n",
    "    W2 = tf.Variable(tf.random_uniform([5, 5], -1., 1.), name='weight2')\n",
    "    W3 = tf.Variable(tf.random_uniform([5, 4], -1., 1.), name='weight3')\n",
    "    W4 = tf.Variable(tf.random_uniform([4, 1], -1., 1.), name='weight4')\n",
    "    \n",
    "with tf.name_scope('BIAS') as scope:\n",
    "    b1 = tf.Variable(tf.random_uniform([5], -1., 1.), name='bias1')\n",
    "    b2 = tf.Variable(tf.random_uniform([5], -1., 1.), name='bias2')\n",
    "    b3 = tf.Variable(tf.random_uniform([4], -1., 1.), name='bias3')\n",
    "    b4 = tf.Variable(tf.random_uniform([1], -1., 1.), name='bias4')\n",
    "    "
   ]
  },
  {
   "cell_type": "code",
   "execution_count": 5,
   "metadata": {
    "collapsed": true
   },
   "outputs": [],
   "source": [
    "with tf.name_scope('layer2') as scope:\n",
    "    L2 = tf.nn.relu(tf.matmul(X, W1) + b1)\n",
    "    \n",
    "with tf.name_scope('layer3') as scope:\n",
    "    L3 = tf.nn.relu(tf.matmul(L2, W2) + b2)\n",
    "    \n",
    "with tf.name_scope('layer4') as scope:\n",
    "    L4 = tf.nn.relu(tf.matmul(L3, W3) + b3)\n",
    "    \n",
    "    "
   ]
  },
  {
   "cell_type": "code",
   "execution_count": 6,
   "metadata": {
    "collapsed": true
   },
   "outputs": [],
   "source": [
    "with tf.name_scope('hypothesis') as scope:\n",
    "    hypothesis = tf.sigmoid(tf.matmul(L4, W4) + b4)\n",
    "    "
   ]
  },
  {
   "cell_type": "code",
   "execution_count": 7,
   "metadata": {
    "collapsed": true
   },
   "outputs": [],
   "source": [
    "with tf.name_scope('cost') as scope:\n",
    "    cost = -tf.reduce_mean(Y * tf.log(hypothesis) + (1 - Y) * tf.log(1 - hypothesis))\n",
    "    cost_sum = tf.summary.scalar('cost', cost)"
   ]
  },
  {
   "cell_type": "code",
   "execution_count": 8,
   "metadata": {
    "collapsed": true
   },
   "outputs": [],
   "source": [
    "w1_hist_sum = tf.summary.histogram('weight1', W1)\n",
    "w2_hist_sum = tf.summary.histogram('weight2', W2)\n",
    "w3_hist_sum = tf.summary.histogram('weight3', W3)\n",
    "w4_hist_sum = tf.summary.histogram('weight4', W4)"
   ]
  },
  {
   "cell_type": "code",
   "execution_count": 9,
   "metadata": {
    "collapsed": true
   },
   "outputs": [],
   "source": [
    "b1_hist_sum = tf.summary.histogram('bias1', b1)\n",
    "b2_hist_sum = tf.summary.histogram('bias2', b2)\n",
    "b3_hist_sum = tf.summary.histogram('bias3', b3)\n",
    "b4_hist_sum = tf.summary.histogram('bias4', b4)\n",
    "\n",
    "y_hist_sum = tf.summary.histogram('y', Y)"
   ]
  },
  {
   "cell_type": "code",
   "execution_count": 10,
   "metadata": {
    "collapsed": true
   },
   "outputs": [],
   "source": [
    "learning_rate = 0.01\n",
    "optimizer = tf.train.GradientDescentOptimizer(learning_rate)\n",
    "train = optimizer.minimize(cost)"
   ]
  },
  {
   "cell_type": "code",
   "execution_count": 11,
   "metadata": {},
   "outputs": [
    {
     "name": "stdout",
     "output_type": "stream",
     "text": [
      "[array([[ 0.46461517],\n",
      "       [ 0.50445962],\n",
      "       [ 0.54583687],\n",
      "       [ 0.45061421]], dtype=float32), array([[ 0.],\n",
      "       [ 1.],\n",
      "       [ 1.],\n",
      "       [ 0.]], dtype=float32), array([[ True],\n",
      "       [ True],\n",
      "       [ True],\n",
      "       [ True]], dtype=bool)]\n",
      "accuracy: 1.0\n"
     ]
    }
   ],
   "source": [
    "init = tf.global_variables_initializer()\n",
    "with tf.Session() as sess:\n",
    "    sess.run(init)\n",
    "\n",
    "    merged = tf.summary.merge_all()\n",
    "    writer = tf.summary.FileWriter('./logs', sess.graph)\n",
    "    \n",
    "    for step in range(2001):\n",
    "        feed = {X: x_data, Y: y_data}\n",
    "        sess.run(train, feed_dict=feed)\n",
    "        if (step % 10 == 0):\n",
    "            summary = sess.run(merged, feed_dict=feed)\n",
    "            writer.add_summary(summary, step)     \n",
    "            \n",
    "    prediction = tf.equal(tf.floor(hypothesis + 0.5), Y)\n",
    "\n",
    "    accuracy = tf.reduce_mean(tf.cast(prediction, tf.float32))\n",
    "    print (sess.run([hypothesis, tf.floor(hypothesis + 0.5), prediction], feed_dict=feed))\n",
    "    print ('accuracy:', sess.run(accuracy, feed_dict=feed))"
   ]
  },
  {
   "cell_type": "markdown",
   "metadata": {
    "collapsed": true
   },
   "source": [
    "# Tensorboard로 확인하기\n",
    "## tensorboard --logdir=./logs --port 6006"
   ]
  },
  {
   "cell_type": "code",
   "execution_count": null,
   "metadata": {
    "collapsed": true
   },
   "outputs": [],
   "source": []
  },
  {
   "cell_type": "code",
   "execution_count": null,
   "metadata": {
    "collapsed": true
   },
   "outputs": [],
   "source": []
  }
 ],
 "metadata": {
  "kernelspec": {
   "display_name": "Python 3",
   "language": "python",
   "name": "python3"
  },
  "language_info": {
   "codemirror_mode": {
    "name": "ipython",
    "version": 3
   },
   "file_extension": ".py",
   "mimetype": "text/x-python",
   "name": "python",
   "nbconvert_exporter": "python",
   "pygments_lexer": "ipython3",
   "version": "3.5.3"
  }
 },
 "nbformat": 4,
 "nbformat_minor": 2
}
